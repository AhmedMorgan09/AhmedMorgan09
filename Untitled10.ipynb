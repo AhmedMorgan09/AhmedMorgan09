{
  "nbformat": 4,
  "nbformat_minor": 0,
  "metadata": {
    "colab": {
      "provenance": [],
      "authorship_tag": "ABX9TyNOPwrjrhW2imq63iM8YCRM",
      "include_colab_link": true
    },
    "kernelspec": {
      "name": "python3",
      "display_name": "Python 3"
    },
    "language_info": {
      "name": "python"
    }
  },
  "cells": [
    {
      "cell_type": "markdown",
      "metadata": {
        "id": "view-in-github",
        "colab_type": "text"
      },
      "source": [
        "<a href=\"https://colab.research.google.com/github/AhmedMorgan09/AhmedMorgan09/blob/main/Untitled10.ipynb\" target=\"_parent\"><img src=\"https://colab.research.google.com/assets/colab-badge.svg\" alt=\"Open In Colab\"/></a>"
      ]
    },
    {
      "cell_type": "code",
      "source": [
        "import torch\n",
        "import torch.nn as nn\n",
        "import torch.nn.functional as F\n",
        "from torch.optim import SGD\n",
        "import matplotlib.pyplot as plt\n",
        "import seaborn as sns"
      ],
      "metadata": {
        "id": "sFg7b_U1UsUR"
      },
      "execution_count": 2,
      "outputs": []
    },
    {
      "cell_type": "code",
      "source": [
        "class FirstNN(nn.Module):\n",
        "  def __init__(self):\n",
        "    super().__init__()\n",
        "    self.w00 = nn.Parameter(torch.tensor(1.1), requires_grad=False)\n",
        "    self.b00 = nn.Parameter(torch.tensor(-0.5), requires_grad=False)\n",
        "    self.w01 = nn.Parameter(torch.tensor(0.6), requires_grad=False)\n",
        "    self.b01 = nn.Parameter(torch.tensor(-1.5), requires_grad=False)\n",
        "    self.w02 = nn.Parameter(torch.tensor(0.5), requires_grad=False)\n",
        "    self.b02 = nn.Parameter(torch.tensor(0.65), requires_grad=False)\n",
        "    self.w11 = nn.Parameter(torch.tensor(1.55), requires_grad=False)\n",
        "    self.w12 = nn.Parameter(torch.tensor(-0.7), requires_grad=False)\n",
        "    self.w13 = nn.Parameter(torch.tensor(1.22), requires_grad=False)\n",
        "    self.w20 = nn.Parameter(torch.tensor(1.6), requires_grad=False)\n",
        "  def forward(self, input):\n",
        "    input_to_layer_01 = input * self.w00 + self.b00\n",
        "    layer_01_output = F.relu(input_to_layer_01)\n",
        "    layer_01_output *= self.w11\n",
        "    input_to_layer_02 = input * self.w01 + self.b01\n",
        "    layer_02_output = F.relu(input_to_layer_02)\n",
        "    layer_02_output *= self.w12\n",
        "    input_to_layer_03 = input * self.w02 + self.b02\n",
        "    layer_03_output = F.relu(input_to_layer_03)\n",
        "    layer_03_output *= self.w13\n",
        "    output = layer_01_output + layer_02_output + layer_03_output\n",
        "    output = F.tanh(output)\n",
        "    output *= self.w20\n",
        "    return output\n",
        "\n",
        "\n",
        "\n"
      ],
      "metadata": {
        "id": "7xAsMo72VxqU"
      },
      "execution_count": 22,
      "outputs": []
    },
    {
      "cell_type": "code",
      "source": [
        "first_model = FirstNN()"
      ],
      "metadata": {
        "id": "HFmOLH8JeDVA"
      },
      "execution_count": 23,
      "outputs": []
    },
    {
      "cell_type": "code",
      "source": [
        "print(first_model)"
      ],
      "metadata": {
        "colab": {
          "base_uri": "https://localhost:8080/"
        },
        "id": "wyMIpJSXe5fe",
        "outputId": "a36de2c2-5a74-4bad-ca4a-b94155cefa38"
      },
      "execution_count": 24,
      "outputs": [
        {
          "output_type": "stream",
          "name": "stdout",
          "text": [
            "FirstNN()\n"
          ]
        }
      ]
    },
    {
      "cell_type": "code",
      "source": [],
      "metadata": {
        "id": "55TyjCUae8op"
      },
      "execution_count": null,
      "outputs": []
    },
    {
      "cell_type": "code",
      "source": [
        "for name, param in first_model.named_parameters():\n",
        "  print(name, param.data)"
      ],
      "metadata": {
        "colab": {
          "base_uri": "https://localhost:8080/"
        },
        "id": "2E8vrpJAeQ32",
        "outputId": "5968ba7a-e05f-4bfc-e919-6e7c0223417c"
      },
      "execution_count": 25,
      "outputs": [
        {
          "output_type": "stream",
          "name": "stdout",
          "text": [
            "w00 tensor(1.1000)\n",
            "b00 tensor(-0.5000)\n",
            "w01 tensor(0.6000)\n",
            "b01 tensor(-1.5000)\n",
            "w02 tensor(0.5000)\n",
            "b02 tensor(0.6500)\n",
            "w11 tensor(1.5500)\n",
            "w12 tensor(-0.7000)\n",
            "w13 tensor(1.2200)\n",
            "w20 tensor(1.6000)\n"
          ]
        }
      ]
    },
    {
      "cell_type": "code",
      "source": [
        "print(first_model(5.1))"
      ],
      "metadata": {
        "colab": {
          "base_uri": "https://localhost:8080/"
        },
        "id": "fiZg-Wr65zLA",
        "outputId": "24887d41-fd91-4499-902a-eb0ee6ee7e03"
      },
      "execution_count": 26,
      "outputs": [
        {
          "output_type": "stream",
          "name": "stdout",
          "text": [
            "tensor(1.6000)\n"
          ]
        }
      ]
    },
    {
      "cell_type": "code",
      "source": [
        "true_inputs = torch.linspace(start=1, end=2.5, steps=40)\n",
        "true_inputs"
      ],
      "metadata": {
        "colab": {
          "base_uri": "https://localhost:8080/"
        },
        "id": "Dqb0e-dM5zZF",
        "outputId": "9a99cf7c-369c-4a18-a4ef-8abdac64bf82"
      },
      "execution_count": 29,
      "outputs": [
        {
          "output_type": "execute_result",
          "data": {
            "text/plain": [
              "tensor([1.0000, 1.0385, 1.0769, 1.1154, 1.1538, 1.1923, 1.2308, 1.2692, 1.3077,\n",
              "        1.3462, 1.3846, 1.4231, 1.4615, 1.5000, 1.5385, 1.5769, 1.6154, 1.6538,\n",
              "        1.6923, 1.7308, 1.7692, 1.8077, 1.8462, 1.8846, 1.9231, 1.9615, 2.0000,\n",
              "        2.0385, 2.0769, 2.1154, 2.1538, 2.1923, 2.2308, 2.2692, 2.3077, 2.3462,\n",
              "        2.3846, 2.4231, 2.4615, 2.5000])"
            ]
          },
          "metadata": {},
          "execution_count": 29
        }
      ]
    },
    {
      "cell_type": "code",
      "source": [
        "true_outputs = first_model(true_inputs)\n",
        "true_outputs"
      ],
      "metadata": {
        "colab": {
          "base_uri": "https://localhost:8080/"
        },
        "id": "hohx84S45zkV",
        "outputId": "8687636c-186f-4cba-b512-fe7b156a0723"
      },
      "execution_count": 30,
      "outputs": [
        {
          "output_type": "execute_result",
          "data": {
            "text/plain": [
              "tensor([1.5702, 1.5750, 1.5790, 1.5824, 1.5853, 1.5877, 1.5897, 1.5914, 1.5928,\n",
              "        1.5939, 1.5949, 1.5958, 1.5965, 1.5970, 1.5975, 1.5979, 1.5983, 1.5985,\n",
              "        1.5988, 1.5990, 1.5991, 1.5993, 1.5994, 1.5995, 1.5996, 1.5996, 1.5997,\n",
              "        1.5998, 1.5998, 1.5998, 1.5999, 1.5999, 1.5999, 1.5999, 1.5999, 1.5999,\n",
              "        1.6000, 1.6000, 1.6000, 1.6000])"
            ]
          },
          "metadata": {},
          "execution_count": 30
        }
      ]
    },
    {
      "cell_type": "code",
      "source": [
        "sns.set(style=\"whitegrid\")\n",
        "sns.lineplot(x=true_inputs, y=true_outputs, color=\"red\", linewidth=3);\n",
        "plt.xlabel(\"Inputs\")\n",
        "plt.ylabel(\"Outputs\")"
      ],
      "metadata": {
        "colab": {
          "base_uri": "https://localhost:8080/",
          "height": 475
        },
        "id": "U13MuYJx5zwg",
        "outputId": "67234ab9-23fc-4931-df05-15121c03d7a5"
      },
      "execution_count": 32,
      "outputs": [
        {
          "output_type": "execute_result",
          "data": {
            "text/plain": [
              "Text(0, 0.5, 'Outputs')"
            ]
          },
          "metadata": {},
          "execution_count": 32
        },
        {
          "output_type": "display_data",
          "data": {
            "text/plain": [
              "<Figure size 640x480 with 1 Axes>"
            ],
            "image/png": "[encoded data removed]"
          },
          "metadata": {}
        }
      ]
    },
    {
      "cell_type": "code",
      "source": [],
      "metadata": {
        "id": "5sP99x7l5z5S"
      },
      "execution_count": null,
      "outputs": []
    },
    {
      "cell_type": "code",
      "source": [],
      "metadata": {
        "id": "9mPLHo_F50CT"
      },
      "execution_count": null,
      "outputs": []
    }
  ]
}